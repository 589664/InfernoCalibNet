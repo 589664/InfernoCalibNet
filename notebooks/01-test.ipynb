{
 "cells": [
  {
   "cell_type": "code",
   "execution_count": 1,
   "metadata": {},
   "outputs": [],
   "source": [
    "import os\n",
    "import pandas as pd\n",
    "from dotenv import load_dotenv\n",
    "from src.prePro import preprocess_metadata, calculate_balanced_label_statistics, stratified_split_by_individual_labels\n",
    "from src.utils import load_image, compute_mean_std\n",
    "from src.XRayDataset import XRayDataset\n",
    "from torch.utils.data import DataLoader\n",
    "\n",
    "# Load environment variables from .env file\n",
    "load_dotenv()\n",
    "data_dir = os.getenv('DATA_DIR')\n",
    "\n",
    "filtered_df = preprocess_metadata(\n",
    "    f'../{data_dir}/raw/xraysMD.csv',\n",
    "    f'../{data_dir}/raw/xrays',\n",
    "    f'../{data_dir}/processed/xraysMD.csv'\n",
    ")\n",
    "\n",
    "filtered_df_stats = calculate_balanced_label_statistics(filtered_df)\n",
    "\n"
   ]
  },
  {
   "cell_type": "code",
   "execution_count": 3,
   "metadata": {},
   "outputs": [
    {
     "name": "stdout",
     "output_type": "stream",
     "text": [
      "Training set size: 7000\n",
      "Test/Validation set size: 3000\n",
      "\n",
      "Combined label distribution statistics:\n",
      "                    Training  Test/Validation\n",
      "Atelectasis              667              265\n",
      "Cardiomegaly             199               93\n",
      "Consolidation            236              120\n",
      "Edema                     93               32\n",
      "Effusion                 685              310\n",
      "Emphysema                154               67\n",
      "Fibrosis                 144               75\n",
      "Hernia                    16                9\n",
      "Infiltration            1044              395\n",
      "Mass                     259              106\n",
      "No Finding              4048             1755\n",
      "Nodule                   373              151\n",
      "Pleural_Thickening       188              101\n",
      "Pneumonia                 78               32\n",
      "Pneumothorax             283              114\n",
      "Total                   8467             3625\n"
     ]
    }
   ],
   "source": [
    "train_df, test_df = stratified_split_by_individual_labels(filtered_df, train_size=7000, test_size=3000)\n",
    "\n",
    "# Print sizes of the resulting DataFrames\n",
    "print(f\"Training set size: {len(train_df)}\")\n",
    "print(f\"Test/Validation set size: {len(test_df)}\")\n",
    "\n",
    "# Calculate the label distribution for the training and test sets\n",
    "train_distribution = pd.Series([label for labels in train_df['Labels'] for label in labels]).value_counts()\n",
    "test_distribution = pd.Series([label for labels in test_df['Labels'] for label in labels]).value_counts()\n",
    "\n",
    "# Combine both distributions into a DataFrame\n",
    "statistics_df = pd.DataFrame({\n",
    "    'Training': train_distribution,\n",
    "    'Test/Validation': test_distribution\n",
    "})\n",
    "\n",
    "# Fill NaN values with 0 (in case a label is not present in either set)\n",
    "statistics_df.fillna(0, inplace=True)\n",
    "\n",
    "# Add a total row to both columns\n",
    "statistics_df.loc['Total'] = statistics_df.sum()\n",
    "\n",
    "print(\"\\nCombined label distribution statistics:\")\n",
    "print(statistics_df)\n"
   ]
  },
  {
   "cell_type": "code",
   "execution_count": 3,
   "metadata": {},
   "outputs": [
    {
     "name": "stdout",
     "output_type": "stream",
     "text": [
      "Computed Mean: 139.45093172971428, Computed Std: 61.9332860849686\n"
     ]
    }
   ],
   "source": [
    "# Compute mean and std using a list of image paths\n",
    "image_paths = [f\"../data/raw/xrays/{image_id}.png\" for image_id in train_df['ImageID']]\n",
    "img_size = 1000  # Set to your desired size\n",
    "\n",
    "mean, std = compute_mean_std(image_paths, img_size)\n",
    "\n",
    "print(f\"Computed Mean: {mean}, Computed Std: {std}\")\n"
   ]
  },
  {
   "cell_type": "code",
   "execution_count": 8,
   "metadata": {},
   "outputs": [],
   "source": [
    "mean = 139.45\n",
    "std = 61.93\n",
    "img_size = 1000\n",
    "# Create training and validation datasets using the computed mean and std\n",
    "train_dataset = XRayDataset(dataframe=train_df, image_dir='../data/raw/xrays/', img_size=img_size, mean=mean, std=std)\n",
    "val_dataset = XRayDataset(dataframe=test_df, image_dir='../data/raw/xrays/', img_size=img_size, mean=mean, std=std)\n",
    "\n",
    "# Create DataLoaders for batching and shuffling\n",
    "batch_size = 16\n",
    "\n",
    "train_loader = DataLoader(train_dataset, batch_size=batch_size, shuffle=True, num_workers=1)\n",
    "val_loader = DataLoader(val_dataset, batch_size=batch_size, shuffle=False, num_workers=1)\n"
   ]
  },
  {
   "cell_type": "code",
   "execution_count": 10,
   "metadata": {},
   "outputs": [
    {
     "name": "stdout",
     "output_type": "stream",
     "text": [
      "Images batch shape: torch.Size([16, 1, 1000, 1000])\n",
      "Labels batch shape: torch.Size([16, 15])\n",
      "First image shape: torch.Size([1, 1000, 1000])\n",
      "First label: tensor([0., 0., 0., 1., 0., 0., 0., 0., 0., 0., 0., 0., 0., 0., 0.])\n"
     ]
    }
   ],
   "source": [
    "# Testing the DataLoader\n",
    "data_iter = iter(train_loader)\n",
    "images, labels = next(data_iter)\n",
    "\n",
    "# Print the shapes of the batch\n",
    "print(f\"Images batch shape: {images.shape}\")  # Should be [batch_size, channels, height, width]\n",
    "print(f\"Labels batch shape: {labels.shape}\")  # Should be [batch_size, num_labels]\n",
    "\n",
    "# Check the individual data points (optional)\n",
    "print(f\"First image shape: {images[0].shape}\")\n",
    "print(f\"First label: {labels[0]}\")"
   ]
  }
 ],
 "metadata": {
  "kernelspec": {
   "display_name": ".venv",
   "language": "python",
   "name": "python3"
  },
  "language_info": {
   "codemirror_mode": {
    "name": "ipython",
    "version": 3
   },
   "file_extension": ".py",
   "mimetype": "text/x-python",
   "name": "python",
   "nbconvert_exporter": "python",
   "pygments_lexer": "ipython3",
   "version": "3.11.9"
  }
 },
 "nbformat": 4,
 "nbformat_minor": 2
}

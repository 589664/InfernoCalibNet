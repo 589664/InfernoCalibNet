{
 "cells": [
  {
   "cell_type": "code",
   "execution_count": 1,
   "metadata": {},
   "outputs": [],
   "source": [
    "import os\n",
    "import pandas as pd\n",
    "from dotenv import load_dotenv\n",
    "from src.prePro import preprocess_metadata, calculate_balanced_label_statistics, stratified_split_by_individual_labels\n",
    "\n",
    "# Load environment variables from .env file\n",
    "load_dotenv()\n",
    "data_dir = os.getenv('DATA_DIR')\n",
    "\n",
    "filtered_df = preprocess_metadata(\n",
    "    f'../{data_dir}/raw/xraysMD.csv',\n",
    "    f'../{data_dir}/raw/xrays',\n",
    "    f'../{data_dir}/processed/xraysMD.csv'\n",
    ")\n",
    "\n",
    "filtered_df_stats = calculate_balanced_label_statistics(filtered_df)\n",
    "\n"
   ]
  },
  {
   "cell_type": "code",
   "execution_count": 2,
   "metadata": {},
   "outputs": [
    {
     "name": "stdout",
     "output_type": "stream",
     "text": [
      "Training set size: 7000\n",
      "Test/Validation set size: 3000\n",
      "\n",
      "Training set label distribution:\n",
      "0      678\n",
      "1      186\n",
      "2      257\n",
      "3      105\n",
      "4      706\n",
      "5      137\n",
      "6      139\n",
      "7       20\n",
      "8     1016\n",
      "9      265\n",
      "10    4083\n",
      "11     331\n",
      "12     202\n",
      "13      72\n",
      "14     270\n",
      "dtype: int64\n",
      "\n",
      "Test/Validation set label distribution:\n",
      "0      279\n",
      "1       81\n",
      "2       99\n",
      "3       41\n",
      "4      284\n",
      "5       62\n",
      "6       74\n",
      "7        7\n",
      "8      407\n",
      "9      122\n",
      "10    1726\n",
      "11     164\n",
      "12     104\n",
      "13      37\n",
      "14     138\n",
      "dtype: int64\n"
     ]
    }
   ],
   "source": [
    "train_df, test_df = stratified_split_by_individual_labels(filtered_df, train_size=7000, test_size=3000)\n",
    "\n",
    "# Print sizes of the resulting DataFrames\n",
    "print(f\"Training set size: {len(train_df)}\")\n",
    "print(f\"Test/Validation set size: {len(test_df)}\")\n",
    "\n",
    "# Optional: Check the label distribution in training and testing sets\n",
    "train_distribution = pd.Series([label for labels in train_df['Labels'] for label in labels]).value_counts()\n",
    "test_distribution = pd.Series([label for labels in test_df['Labels'] for label in labels]).value_counts()\n",
    "\n",
    "print(\"\\nTraining set label distribution:\")\n",
    "print(train_distribution)\n",
    "\n",
    "print(\"\\nTest/Validation set label distribution:\")\n",
    "print(test_distribution)"
   ]
  }
 ],
 "metadata": {
  "kernelspec": {
   "display_name": ".venv",
   "language": "python",
   "name": "python3"
  },
  "language_info": {
   "codemirror_mode": {
    "name": "ipython",
    "version": 3
   },
   "file_extension": ".py",
   "mimetype": "text/x-python",
   "name": "python",
   "nbconvert_exporter": "python",
   "pygments_lexer": "ipython3",
   "version": "3.11.9"
  }
 },
 "nbformat": 4,
 "nbformat_minor": 2
}
